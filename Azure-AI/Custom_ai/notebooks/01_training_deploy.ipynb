{
 "cells": [
  {
   "cell_type": "code",
   "execution_count": 128,
   "metadata": {},
   "outputs": [
    {
     "output_type": "stream",
     "name": "stdout",
     "text": "aml-nvs-experimentation-001\nNVS_Training\nwesteurope\nc012b3d9-9801-4d9f-8f5c-8e688cf2e70b\n"
    }
   ],
   "source": [
    "from azureml.core import Workspace, Datastore, Experiment, Run\n",
    "from azureml.data.data_reference import DataReference\n",
    "# from azureml.widgets import RunDetails\n",
    "from azureml.core.compute import ComputeTarget, AmlCompute\n",
    "from azureml.core.compute_target import ComputeTargetException\n",
    "from azureml.train.dnn import PyTorch\n",
    "\n",
    "ws = Workspace.from_config()\n",
    "print(ws.name, ws.resource_group, ws.location, ws.subscription_id, sep='\\n')\n",
    "\n",
    " "
   ]
  },
  {
   "cell_type": "code",
   "execution_count": 129,
   "metadata": {},
   "outputs": [
    {
     "output_type": "stream",
     "name": "stdout",
     "text": "Found existing cluster, use it.\nSucceeded\nAmlCompute wait for completion finished\n\nMinimum number of nodes requested have been provisioned\n"
    }
   ],
   "source": [
    "# Choose a name for your CPU cluster\n",
    "gpu_cluster_name = \"nvscomptar001\"\n",
    "min_node = 0\n",
    "max_node = 10\n",
    "vm_size = 'STANDARD_NC12'\n",
    "\n",
    "\n",
    "# Verify that cluster does not exist already\n",
    "try:\n",
    "    gpu_cluster = ComputeTarget(workspace=ws, name=gpu_cluster_name)\n",
    "    print('Found existing cluster, use it.')\n",
    "except ComputeTargetException as e:\n",
    "    compute_config = AmlCompute.provisioning_configuration(\n",
    "        vm_size = vm_size,\n",
    "        min_nodes = min_node,\n",
    "        max_nodes = max_node\n",
    "        )\n",
    "    gpu_cluster = ComputeTarget.create(ws, gpu_cluster_name, compute_config)\n",
    "\n",
    "\n",
    "gpu_cluster.wait_for_completion(show_output=True)\n",
    "\n"
   ]
  },
  {
   "cell_type": "code",
   "execution_count": 130,
   "metadata": {},
   "outputs": [],
   "source": [
    "ds = ws.get_default_datastore()\n",
    "try:\n",
    "    blob_datastore = Datastore.register_azure_blob_container(workspace=ws, \n",
    "                                                         datastore_name=ds.name+'_nvsexperiment', \n",
    "                                                         container_name='nvsexperiment', \n",
    "                                                         account_name=ds.account_name,\n",
    "                                                         account_key=ds.account_key\n",
    "    )\n",
    "except Exception:\n",
    "    blob_datastore = Datastore.get(ws, datastore_name=ds.name+'_nvsexperiment') "
   ]
  },
  {
   "cell_type": "code",
   "execution_count": 131,
   "metadata": {},
   "outputs": [],
   "source": [
    "script_params = {\n",
    "    '--container_dir': blob_datastore.as_download(),\n",
    "    '--data_dir': '/datasets/cell_images/',\n",
    "    '--output_dir': './outputs',\n",
    "    '--num_epochs': 5,\n",
    "}"
   ]
  },
  {
   "cell_type": "code",
   "execution_count": 132,
   "metadata": {},
   "outputs": [],
   "source": [
    "exp = Experiment(workspace=ws, name='exp-malaria-dection')"
   ]
  },
  {
   "cell_type": "code",
   "execution_count": 133,
   "metadata": {},
   "outputs": [
    {
     "output_type": "stream",
     "name": "stderr",
     "text": "framework_version is not specified, defaulting to version 1.4.\n"
    }
   ],
   "source": [
    "estimator = PyTorch(source_directory='../src', \n",
    "                    script_params=script_params,\n",
    "                    compute_target=gpu_cluster,\n",
    "                    entry_script='train.py',\n",
    "                    use_gpu=True,\n",
    "                    pip_packages=['pillow==5.4.1']\n",
    "                    )"
   ]
  },
  {
   "cell_type": "code",
   "execution_count": 134,
   "metadata": {},
   "outputs": [],
   "source": [
    "run = exp.submit(estimator)"
   ]
  },
  {
   "cell_type": "code",
   "execution_count": 135,
   "metadata": {},
   "outputs": [
    {
     "output_type": "error",
     "ename": "KeyError",
     "evalue": "'error'",
     "traceback": [
      "\u001b[1;31m---------------------------------------------------------------------------\u001b[0m",
      "\u001b[1;31mKeyError\u001b[0m                                  Traceback (most recent call last)",
      "\u001b[1;32m<ipython-input-135-7c5136857159>\u001b[0m in \u001b[0;36m<module>\u001b[1;34m\u001b[0m\n\u001b[1;32m----> 1\u001b[1;33m \u001b[0mrun\u001b[0m\u001b[1;33m.\u001b[0m\u001b[0mwait_for_completion\u001b[0m\u001b[1;33m(\u001b[0m\u001b[1;33m)\u001b[0m\u001b[1;33m[\u001b[0m\u001b[1;34m'error'\u001b[0m\u001b[1;33m]\u001b[0m\u001b[1;33m[\u001b[0m\u001b[1;34m'error'\u001b[0m\u001b[1;33m]\u001b[0m\u001b[1;33m[\u001b[0m\u001b[1;34m'message'\u001b[0m\u001b[1;33m]\u001b[0m\u001b[1;33m\u001b[0m\u001b[1;33m\u001b[0m\u001b[0m\n\u001b[0m",
      "\u001b[1;31mKeyError\u001b[0m: 'error'"
     ]
    }
   ],
   "source": [
    "run.wait_for_completion()['error']['error']['message']"
   ]
  },
  {
   "cell_type": "code",
   "execution_count": 136,
   "metadata": {},
   "outputs": [
    {
     "output_type": "execute_result",
     "data": {
      "text/plain": "Model(workspace=Workspace.create(name='aml-nvs-experimentation-001', subscription_id='c012b3d9-9801-4d9f-8f5c-8e688cf2e70b', resource_group='NVS_Training'), name=pytorch-malaria-cell-class, id=pytorch-malaria-cell-class:3, version=3, tags={}, properties={})"
     },
     "metadata": {},
     "execution_count": 136
    }
   ],
   "source": [
    "run.register_model(\n",
    "    model_path = './outputs/model.pt',\n",
    "    model_name = \"pytorch-malaria-cell-class\"\n",
    "    )"
   ]
  },
  {
   "cell_type": "code",
   "execution_count": null,
   "metadata": {},
   "outputs": [],
   "source": []
  }
 ],
 "metadata": {
  "language_info": {
   "codemirror_mode": {
    "name": "ipython",
    "version": 3
   },
   "file_extension": ".py",
   "mimetype": "text/x-python",
   "name": "python",
   "nbconvert_exporter": "python",
   "pygments_lexer": "ipython3",
   "version": "3.7.6-final"
  },
  "orig_nbformat": 2,
  "kernelspec": {
   "name": "python37664bitenvvenv18106b881a854b6fa3899df2220cb90d",
   "display_name": "Python 3.7.6 64-bit ('env': venv)"
  }
 },
 "nbformat": 4,
 "nbformat_minor": 2
}
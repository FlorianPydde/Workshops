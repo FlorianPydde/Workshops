{
 "cells": [
  {
   "cell_type": "code",
   "execution_count": 97,
   "metadata": {},
   "outputs": [
    {
     "output_type": "stream",
     "name": "stdout",
     "text": "aml-nvs-experimentation-001\nNVS_Training\nwesteurope\nc012b3d9-9801-4d9f-8f5c-8e688cf2e70b\n"
    }
   ],
   "source": [
    "from azureml.core import Workspace, Datastore, Experiment, Run\n",
    "from azureml.data.data_reference import DataReference\n",
    "# from azureml.widgets import RunDetails\n",
    "from azureml.core.compute import ComputeTarget, AmlCompute\n",
    "from azureml.core.compute_target import ComputeTargetException\n",
    "from azureml.train.dnn import PyTorch\n",
    "\n",
    "ws = Workspace.from_config()\n",
    "print(ws.name, ws.resource_group, ws.location, ws.subscription_id, sep='\\n')\n",
    "\n",
    " "
   ]
  },
  {
   "cell_type": "code",
   "execution_count": 98,
   "metadata": {},
   "outputs": [
    {
     "output_type": "stream",
     "name": "stdout",
     "text": "Found existing cluster, use it.\nSucceeded\nAmlCompute wait for completion finished\n\nMinimum number of nodes requested have been provisioned\n"
    }
   ],
   "source": [
    "# Choose a name for your CPU cluster\n",
    "gpu_cluster_name = \"nvscomptar001\"\n",
    "min_node = 0\n",
    "max_node = 25\n",
    "vm_size = 'STANDARD_NC12'\n",
    "\n",
    "\n",
    "# Verify that cluster does not exist already\n",
    "try:\n",
    "    gpu_cluster = ComputeTarget(workspace=ws, name=gpu_cluster_name)\n",
    "    print('Found existing cluster, use it.')\n",
    "except ComputeTargetException as e:\n",
    "    compute_config = AmlCompute.provisioning_configuration(\n",
    "        vm_size = vm_size,\n",
    "        min_nodes = min_node,\n",
    "        max_nodes = max_node\n",
    "        )\n",
    "    gpu_cluster = ComputeTarget.create(ws, gpu_cluster_name, compute_config)\n",
    "\n",
    "\n",
    "gpu_cluster.wait_for_completion(show_output=True)\n",
    "\n"
   ]
  },
  {
   "cell_type": "code",
   "execution_count": 99,
   "metadata": {},
   "outputs": [],
   "source": [
    "ds = ws.get_default_datastore()\n",
    "try:\n",
    "    blob_datastore = Datastore.register_azure_blob_container(workspace=ws, \n",
    "                                                         datastore_name=ds.name+'_nvsexperiment', \n",
    "                                                         container_name='nvsexperiment', \n",
    "                                                         account_name=ds.account_name,\n",
    "                                                         account_key=ds.account_key\n",
    "    )\n",
    "except Exception:\n",
    "    blob_datastore = Datastore.get(ws, datastore_name=ds.name+'_nvsexperiment') \n",
    "blob_data_ref = DataReference(\n",
    "    datastore=blob_datastore,\n",
    "    data_reference_name=\"/datasets/cells_images\",\n",
    "    path_on_datastore=\"/datasets/cells_images/\")"
   ]
  },
  {
   "cell_type": "code",
   "execution_count": 100,
   "metadata": {},
   "outputs": [],
   "source": [
    "script_params = {\n",
    "    '--container_dir': blob_datastore.as_download(),\n",
    "    '--data_dir': '/datasets/cell_images/',\n",
    "    '--output_dir': './outputs',\n",
    "    '--num_epochs': 1,\n",
    "    '--register_model': ''\n",
    "}"
   ]
  },
  {
   "cell_type": "code",
   "execution_count": 101,
   "metadata": {},
   "outputs": [],
   "source": [
    "exp = Experiment(workspace=ws, name='exp-malaria-dection')"
   ]
  },
  {
   "cell_type": "code",
   "execution_count": 102,
   "metadata": {},
   "outputs": [
    {
     "output_type": "stream",
     "name": "stderr",
     "text": "framework_version is not specified, defaulting to version 1.4.\n"
    }
   ],
   "source": [
    "estimator = PyTorch(source_directory='../src', \n",
    "                    script_params=script_params,\n",
    "                    compute_target=gpu_cluster,\n",
    "                    entry_script='train.py',\n",
    "                    use_gpu=True,\n",
    "                    pip_packages=['pillow==5.4.1']\n",
    "                    )"
   ]
  },
  {
   "cell_type": "code",
   "execution_count": 103,
   "metadata": {},
   "outputs": [],
   "source": [
    "run = exp.submit(estimator)"
   ]
  },
  {
   "cell_type": "code",
   "execution_count": 104,
   "metadata": {},
   "outputs": [
    {
     "output_type": "execute_result",
     "data": {
      "text/plain": "\"User program failed with AttributeError: 'ResNet' object has no attribute 'register_model'\""
     },
     "metadata": {},
     "execution_count": 104
    }
   ],
   "source": [
    "run.wait_for_completion()['error']['error']['message']"
   ]
  },
  {
   "cell_type": "code",
   "execution_count": 124,
   "metadata": {},
   "outputs": [],
   "source": [
    "run.register_model(\n",
    "    model_path = './outputs/model.pt',\n",
    "    model_name = \"pytorch-malaria-cell-class\"\n",
    "    )"
   ]
  },
  {
   "cell_type": "code",
   "execution_count": null,
   "metadata": {},
   "outputs": [],
   "source": []
  }
 ],
 "metadata": {
  "language_info": {
   "codemirror_mode": {
    "name": "ipython",
    "version": 3
   },
   "file_extension": ".py",
   "mimetype": "text/x-python",
   "name": "python",
   "nbconvert_exporter": "python",
   "pygments_lexer": "ipython3",
   "version": "3.7.6-final"
  },
  "orig_nbformat": 2,
  "kernelspec": {
   "name": "python37664bitenvvenv18106b881a854b6fa3899df2220cb90d",
   "display_name": "Python 3.7.6 64-bit ('env': venv)"
  }
 },
 "nbformat": 4,
 "nbformat_minor": 2
}
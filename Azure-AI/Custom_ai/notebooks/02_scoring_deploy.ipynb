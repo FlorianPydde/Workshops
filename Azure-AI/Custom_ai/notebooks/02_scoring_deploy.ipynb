{
 "cells": [
  {
   "cell_type": "code",
   "execution_count": 3,
   "metadata": {},
   "outputs": [
    {
     "output_type": "stream",
     "name": "stdout",
     "text": "name 'Webservice' is not defined\nError, there is already a service with name aci-cells-malaria found in workspace aml-nvs-experimentation-001\n\n"
    },
    {
     "output_type": "error",
     "ename": "WebserviceException",
     "evalue": "WebserviceException:\n\tMessage: Error, there is already a service with name aci-cells-malaria found in workspace aml-nvs-experimentation-001\n\tInnerException None\n\tErrorResponse \n{\n    \"error\": {\n        \"message\": \"Error, there is already a service with name aci-cells-malaria found in workspace aml-nvs-experimentation-001\"\n    }\n}",
     "traceback": [
      "\u001b[1;31m---------------------------------------------------------------------------\u001b[0m",
      "\u001b[1;31mWebserviceException\u001b[0m                       Traceback (most recent call last)",
      "\u001b[1;32mc:\\Projects\\Repos\\Workshops\\env\\lib\\site-packages\\azureml\\core\\webservice\\webservice.py\u001b[0m in \u001b[0;36m_check_for_existing_webservice\u001b[1;34m(workspace, name, overwrite)\u001b[0m\n\u001b[0;32m    522\u001b[0m                 raise WebserviceException('Error, there is already a service with name {} found in '\n\u001b[1;32m--> 523\u001b[1;33m                                           'workspace {}'.format(name, workspace._workspace_name))\n\u001b[0m\u001b[0;32m    524\u001b[0m             \u001b[1;32mexcept\u001b[0m \u001b[0mWebserviceException\u001b[0m \u001b[1;32mas\u001b[0m \u001b[0me\u001b[0m\u001b[1;33m:\u001b[0m\u001b[1;33m\u001b[0m\u001b[1;33m\u001b[0m\u001b[0m\n",
      "\u001b[1;31mWebserviceException\u001b[0m: WebserviceException:\n\tMessage: Error, there is already a service with name aci-cells-malaria found in workspace aml-nvs-experimentation-001\n\tInnerException None\n\tErrorResponse \n{\n    \"error\": {\n        \"message\": \"Error, there is already a service with name aci-cells-malaria found in workspace aml-nvs-experimentation-001\"\n    }\n}",
      "\nDuring handling of the above exception, another exception occurred:\n",
      "\u001b[1;31mWebserviceException\u001b[0m                       Traceback (most recent call last)",
      "\u001b[1;32m<ipython-input-3-d09b3aba2f29>\u001b[0m in \u001b[0;36m<module>\u001b[1;34m\u001b[0m\n\u001b[0;32m     34\u001b[0m     \u001b[0mmodels\u001b[0m\u001b[1;33m=\u001b[0m\u001b[1;33m[\u001b[0m\u001b[0mmodel\u001b[0m\u001b[1;33m]\u001b[0m\u001b[1;33m,\u001b[0m\u001b[1;33m\u001b[0m\u001b[1;33m\u001b[0m\u001b[0m\n\u001b[0;32m     35\u001b[0m     \u001b[0minference_config\u001b[0m\u001b[1;33m=\u001b[0m\u001b[0minference_config\u001b[0m\u001b[1;33m,\u001b[0m\u001b[1;33m\u001b[0m\u001b[1;33m\u001b[0m\u001b[0m\n\u001b[1;32m---> 36\u001b[1;33m     \u001b[0mdeployment_config\u001b[0m\u001b[1;33m=\u001b[0m\u001b[0maciconfig\u001b[0m\u001b[1;33m,\u001b[0m\u001b[1;33m\u001b[0m\u001b[1;33m\u001b[0m\u001b[0m\n\u001b[0m\u001b[0;32m     37\u001b[0m     )\n\u001b[0;32m     38\u001b[0m \u001b[0mservice\u001b[0m\u001b[1;33m.\u001b[0m\u001b[0mwait_for_deployment\u001b[0m\u001b[1;33m(\u001b[0m\u001b[1;32mTrue\u001b[0m\u001b[1;33m)\u001b[0m\u001b[1;33m\u001b[0m\u001b[1;33m\u001b[0m\u001b[0m\n",
      "\u001b[1;32mc:\\Projects\\Repos\\Workshops\\env\\lib\\site-packages\\azureml\\core\\model.py\u001b[0m in \u001b[0;36mdeploy\u001b[1;34m(workspace, name, models, inference_config, deployment_config, deployment_target, overwrite)\u001b[0m\n\u001b[0;32m   1637\u001b[0m \u001b[1;33m\u001b[0m\u001b[0m\n\u001b[0;32m   1638\u001b[0m         \u001b[0mwebservice_name_validation\u001b[0m\u001b[1;33m(\u001b[0m\u001b[0mname\u001b[0m\u001b[1;33m)\u001b[0m\u001b[1;33m\u001b[0m\u001b[1;33m\u001b[0m\u001b[0m\n\u001b[1;32m-> 1639\u001b[1;33m         \u001b[0mWebservice\u001b[0m\u001b[1;33m.\u001b[0m\u001b[0m_check_for_existing_webservice\u001b[0m\u001b[1;33m(\u001b[0m\u001b[0mworkspace\u001b[0m\u001b[1;33m,\u001b[0m \u001b[0mname\u001b[0m\u001b[1;33m,\u001b[0m \u001b[0moverwrite\u001b[0m\u001b[1;33m)\u001b[0m\u001b[1;33m\u001b[0m\u001b[1;33m\u001b[0m\u001b[0m\n\u001b[0m\u001b[0;32m   1640\u001b[0m \u001b[1;33m\u001b[0m\u001b[0m\n\u001b[0;32m   1641\u001b[0m         \u001b[1;31m# Local webservice.\u001b[0m\u001b[1;33m\u001b[0m\u001b[1;33m\u001b[0m\u001b[1;33m\u001b[0m\u001b[0m\n",
      "\u001b[1;32mc:\\Projects\\Repos\\Workshops\\env\\lib\\site-packages\\azureml\\core\\webservice\\webservice.py\u001b[0m in \u001b[0;36m_check_for_existing_webservice\u001b[1;34m(workspace, name, overwrite)\u001b[0m\n\u001b[0;32m    524\u001b[0m             \u001b[1;32mexcept\u001b[0m \u001b[0mWebserviceException\u001b[0m \u001b[1;32mas\u001b[0m \u001b[0me\u001b[0m\u001b[1;33m:\u001b[0m\u001b[1;33m\u001b[0m\u001b[1;33m\u001b[0m\u001b[0m\n\u001b[0;32m    525\u001b[0m                 \u001b[1;32mif\u001b[0m \u001b[1;34m'WebserviceNotFound'\u001b[0m \u001b[1;32mnot\u001b[0m \u001b[1;32min\u001b[0m \u001b[0me\u001b[0m\u001b[1;33m.\u001b[0m\u001b[0mmessage\u001b[0m\u001b[1;33m:\u001b[0m\u001b[1;33m\u001b[0m\u001b[1;33m\u001b[0m\u001b[0m\n\u001b[1;32m--> 526\u001b[1;33m                     \u001b[1;32mraise\u001b[0m \u001b[0mWebserviceException\u001b[0m\u001b[1;33m(\u001b[0m\u001b[0me\u001b[0m\u001b[1;33m.\u001b[0m\u001b[0mmessage\u001b[0m\u001b[1;33m,\u001b[0m \u001b[0mlogger\u001b[0m\u001b[1;33m=\u001b[0m\u001b[0mmodule_logger\u001b[0m\u001b[1;33m)\u001b[0m\u001b[1;33m\u001b[0m\u001b[1;33m\u001b[0m\u001b[0m\n\u001b[0m\u001b[0;32m    527\u001b[0m \u001b[1;33m\u001b[0m\u001b[0m\n\u001b[0;32m    528\u001b[0m     \u001b[1;33m@\u001b[0m\u001b[0mstaticmethod\u001b[0m\u001b[1;33m\u001b[0m\u001b[1;33m\u001b[0m\u001b[0m\n",
      "\u001b[1;31mWebserviceException\u001b[0m: WebserviceException:\n\tMessage: Error, there is already a service with name aci-cells-malaria found in workspace aml-nvs-experimentation-001\n\tInnerException None\n\tErrorResponse \n{\n    \"error\": {\n        \"message\": \"Error, there is already a service with name aci-cells-malaria found in workspace aml-nvs-experimentation-001\"\n    }\n}"
     ]
    }
   ],
   "source": [
    "from azureml.core.webservice import AciWebservice\n",
    "from azureml.core.webservice import Webservice\n",
    "from azureml.core.model import Model, InferenceConfig\n",
    "from azureml.core.environment import Environment, CondaDependencies\n",
    "from azureml.core import Workspace\n",
    "\n",
    "\n",
    "ws = Workspace.from_config()\n",
    "\n",
    "myenv = Environment(name='pytorch-env')\n",
    "myenv.python.conda_dependencies = CondaDependencies.create(\n",
    "    pip_packages=['azureml-defaults', 'torch', 'torchvision>=0.5.0']\n",
    "    )\n",
    "\n",
    "inference_config = InferenceConfig(entry_script=\"../src/infer.py\", environment=myenv)\n",
    "\n",
    "aciconfig = AciWebservice.deploy_configuration(\n",
    "    cpu_cores=1,\n",
    "    memory_gb=1,\n",
    "    tags={'data': 'cells-malaria',  'method':'transfer learning', 'framework':'pytorch'},\n",
    "    description='Classify infected/uninfected cells using transfer learning with PyTorch'\n",
    "    )\n",
    "\n",
    "try:\n",
    "    service_name = 'aci-cells-malaria'\n",
    "    service = Webservice(ws,service_name)\n",
    "    service.delete()\n",
    "except Exception as e:\n",
    "    print(e)\n",
    "\n",
    "model = Model(ws,name=\"pytorch-malaria-cell-class\")\n",
    "\n",
    "service = Model.deploy(\n",
    "    workspace=ws,\n",
    "    name='aci-cells-malaria',\n",
    "    models=[model],\n",
    "    inference_config=inference_config,\n",
    "    deployment_config=aciconfig,\n",
    "    )\n",
    "service.wait_for_deployment(show_output=True)\n",
    "print(service.state)"
   ]
  },
  {
   "cell_type": "code",
   "execution_count": null,
   "metadata": {},
   "outputs": [],
   "source": []
  }
 ],
 "metadata": {
  "language_info": {
   "codemirror_mode": {
    "name": "ipython",
    "version": 3
   },
   "file_extension": ".py",
   "mimetype": "text/x-python",
   "name": "python",
   "nbconvert_exporter": "python",
   "pygments_lexer": "ipython3",
   "version": "3.7.6-final"
  },
  "orig_nbformat": 2,
  "kernelspec": {
   "name": "python37664bitenvvenv18106b881a854b6fa3899df2220cb90d",
   "display_name": "Python 3.7.6 64-bit ('env': venv)"
  }
 },
 "nbformat": 4,
 "nbformat_minor": 2
}
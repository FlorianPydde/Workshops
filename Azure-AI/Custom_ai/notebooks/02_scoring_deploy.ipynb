{
 "cells": [
  {
   "cell_type": "code",
   "execution_count": 1,
   "metadata": {
    "tags": [
     "outputPrepend",
     "outputPrepend",
     "outputPrepend",
     "outputPrepend",
     "outputPrepend",
     "outputPrepend",
     "outputPrepend",
     "outputPrepend",
     "outputPrepend",
     "outputPrepend",
     "outputPrepend",
     "outputPrepend",
     "outputPrepend",
     "outputPrepend",
     "outputPrepend",
     "outputPrepend",
     "outputPrepend",
     "outputPrepend",
     "outputPrepend",
     "outputPrepend",
     "outputPrepend",
     "outputPrepend",
     "outputPrepend",
     "outputPrepend",
     "outputPrepend",
     "outputPrepend",
     "outputPrepend",
     "outputPrepend",
     "outputPrepend",
     "outputPrepend",
     "outputPrepend",
     "outputPrepend",
     "outputPrepend",
     "outputPrepend",
     "outputPrepend",
     "outputPrepend",
     "outputPrepend",
     "outputPrepend",
     "outputPrepend"
    ]
   },
   "outputs": [
    {
     "output_type": "stream",
     "name": "stderr",
     "text": "Failure while loading azureml_run_type_providers. Failed to load entrypoint hyperdrive = azureml.train.hyperdrive:HyperDriveRun._from_run_dto with exception (azureml-telemetry 1.6.0 (c:\\projects\\repos\\workshops\\env\\lib\\site-packages), Requirement.parse('azureml-telemetry~=1.2.0')).\nFailure while loading azureml_run_type_providers. Failed to load entrypoint azureml.PipelineRun = azureml.pipeline.core.run:PipelineRun._from_dto with exception (azureml-core 1.6.0.post1 (c:\\projects\\repos\\workshops\\env\\lib\\site-packages), Requirement.parse('azureml-core~=1.2.0')).\nFailure while loading azureml_run_type_providers. Failed to load entrypoint azureml.ReusedStepRun = azureml.pipeline.core.run:StepRun._from_reused_dto with exception (azureml-core 1.6.0.post1 (c:\\projects\\repos\\workshops\\env\\lib\\site-packages), Requirement.parse('azureml-core~=1.2.0')).\nFailure while loading azureml_run_type_providers. Failed to load entrypoint azureml.StepRun = azureml.pipeline.core.run:StepRun._from_dto with exception (azureml-core 1.6.0.post1 (c:\\projects\\repos\\workshops\\env\\lib\\site-packages), Requirement.parse('azureml-core~=1.2.0')).\n"
    }
   ],
   "source": [
    "from azureml.core.webservice import AciWebservice\n",
    "from azureml.core.webservice import Webservice, LocalWebservice\n",
    "from azureml.core.model import Model, InferenceConfig\n",
    "from azureml.core.environment import Environment, CondaDependencies\n",
    "from azureml.core import Workspace\n",
    "\n",
    "\n",
    "ws = Workspace.from_config()"
   ]
  },
  {
   "cell_type": "markdown",
   "metadata": {},
   "source": [
    "# Deploy to remote ACI"
   ]
  },
  {
   "cell_type": "code",
   "execution_count": null,
   "metadata": {},
   "outputs": [],
   "source": [
    "myenv = Environment(name='pytorch-env')\n",
    "myenv.python.conda_dependencies = CondaDependencies.create(\n",
    "    pip_packages=['azureml-defaults', 'torch', 'torchvision>=0.5.0']\n",
    "    )\n",
    "\n",
    "inference_config = InferenceConfig(entry_script=\"../src/infer.py\", environment=myenv)\n",
    "\n",
    "aciconfig = AciWebservice.deploy_configuration(\n",
    "    cpu_cores=3,\n",
    "    memory_gb=1,\n",
    "    tags={'data': 'cells-malaria',  'method':'transfer learning', 'framework':'pytorch'},\n",
    "    description='Classify infected/uninfected cells using transfer learning with PyTorch'\n",
    "    )\n",
    "try:\n",
    "    service = Webservice(ws,service_name)\n",
    "    service.delete()\n",
    "except Exception as e:\n",
    "    print('Webservice does not exist yet')\n",
    "\n",
    "model = Model(ws,name=\"pytorch-malaria-cell-class\")\n",
    "\n",
    "service = Model.deploy(\n",
    "    workspace=ws,\n",
    "    name=aci-cells-malaria\n",
    "    models=[model],\n",
    "    inference_config=inference_config,\n",
    "    deployment_config=aciconfig,\n",
    "    )\n",
    "service.wait_for_deployment(show_output=True)\n",
    "print(service.state)"
   ]
  },
  {
   "cell_type": "markdown",
   "metadata": {},
   "source": [
    "# Deploy locally"
   ]
  },
  {
   "cell_type": "code",
   "execution_count": null,
   "metadata": {},
   "outputs": [],
   "source": [
    "myenv = Environment(name='pytorch-env')\n",
    "myenv.python.conda_dependencies = CondaDependencies.create(\n",
    "    pip_packages=['azureml-defaults', 'torch', 'torchvision>=0.5.0']\n",
    "    )\n",
    "\n",
    "# explicitly set base_image to None when setting base_dockerfile\n",
    "myenv.docker.base_image = None\n",
    "myenv.docker.base_dockerfile = \"FROM mcr.microsoft.com/azureml/base:intelmpi2018.3-ubuntu16.04\"\n",
    "myenv.inferencing_stack_version = \"latest\"\n",
    "\n",
    "inference_config = InferenceConfig(entry_script=\"../src/infer.py\", environment=myenv)\n",
    "\n",
    "aciconfig = AciWebservice.deploy_configuration(\n",
    "    cpu_cores=3,\n",
    "    memory_gb=1,\n",
    "    tags={'data': 'cells-malaria',  'method':'transfer learning', 'framework':'pytorch'},\n",
    "    description='Classify infected/uninfected cells using transfer learning with PyTorch'\n",
    "    )\n",
    "localconfig = LocalWebservice.deploy_configuration(port=6789)\n",
    "deployment_config = localconfig\n",
    "service_name = 'local'\n",
    "try:\n",
    "    service = Webservice(ws,service_name)\n",
    "    service.delete()\n",
    "except Exception as e:\n",
    "    print('Webservice does not exist yet')\n",
    "\n",
    "model = Model(ws,name=\"pytorch-malaria-cell-class\")\n",
    "\n",
    "service = Model.deploy(\n",
    "    workspace=ws,\n",
    "    name=service_name,#aci-cells-malaria\n",
    "    models=[model],\n",
    "    inference_config=inference_config,\n",
    "    deployment_config=deployment_config,\n",
    "    )\n",
    "service.wait_for_deployment(show_output=True)\n",
    "print(service.state)"
   ]
  }
 ],
 "metadata": {
  "language_info": {
   "codemirror_mode": {
    "name": "ipython",
    "version": 3
   },
   "file_extension": ".py",
   "mimetype": "text/x-python",
   "name": "python",
   "nbconvert_exporter": "python",
   "pygments_lexer": "ipython3",
   "version": "3.7.6-final"
  },
  "orig_nbformat": 2,
  "kernelspec": {
   "name": "python37664bitenvvenv18106b881a854b6fa3899df2220cb90d",
   "display_name": "Python 3.7.6 64-bit ('env': venv)"
  }
 },
 "nbformat": 4,
 "nbformat_minor": 2
}
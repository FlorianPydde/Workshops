{
 "cells": [
  {
   "cell_type": "code",
   "execution_count": 99,
   "metadata": {},
   "outputs": [],
   "source": [
    "import glob\n",
    "import random\n",
    "from shutil import copyfile\n",
    "import shutil\n",
    "import os"
   ]
  },
  {
   "cell_type": "code",
   "execution_count": 100,
   "metadata": {},
   "outputs": [],
   "source": [
    "image_list_infected = list(glob.glob('../../Datasets/cell_images/Parasitized/*.png'))\n",
    "image_list_uninfected = list(glob.glob('../../Datasets/cell_images/Uninfected/*.png'))\n"
   ]
  },
  {
   "cell_type": "code",
   "execution_count": 101,
   "metadata": {},
   "outputs": [],
   "source": [
    "random.shuffle(image_list_infected)\n",
    "random.shuffle(image_list_uninfected)"
   ]
  },
  {
   "cell_type": "code",
   "execution_count": 102,
   "metadata": {},
   "outputs": [],
   "source": [
    "train_split = int(0.6 * len(image_list_infected))\n",
    "val_split = int(0.2 * len(image_list_infected))"
   ]
  },
  {
   "cell_type": "code",
   "execution_count": 103,
   "metadata": {},
   "outputs": [],
   "source": [
    "train_i = image_list_infected[0:train_split]\n",
    "val_i = image_list_infected[train_split:train_split+val_split]\n",
    "test_i = image_list_infected[train_split+val_split:]\n",
    "\n",
    "train_un = image_list_uninfected[0:train_split]\n",
    "val_un = image_list_uninfected[train_split:train_split+val_split]\n",
    "test_un = image_list_uninfected[train_split+val_split:]"
   ]
  },
  {
   "cell_type": "code",
   "execution_count": 104,
   "metadata": {},
   "outputs": [
    {
     "output_type": "execute_result",
     "data": {
      "text/plain": "'../../Datasets/cell_images/Parasitized\\\\C117P78ThinF_IMG_20150930_214511_cell_91.png'"
     },
     "metadata": {},
     "execution_count": 104
    }
   ],
   "source": [
    "train_i[0]"
   ]
  },
  {
   "cell_type": "code",
   "execution_count": 105,
   "metadata": {},
   "outputs": [
    {
     "output_type": "execute_result",
     "data": {
      "text/plain": "'../../Datasets/cell_images/train/infected\\\\C117P78ThinF_IMG_20150930_214511_cell_91.png'"
     },
     "metadata": {},
     "execution_count": 105
    }
   ],
   "source": [
    "train_i[0].replace('Parasitized\\\\','train/infected\\\\')"
   ]
  },
  {
   "cell_type": "code",
   "execution_count": 106,
   "metadata": {},
   "outputs": [],
   "source": [
    "def make_dir(path):\n",
    "    dir = path\n",
    "    if os.path.exists(dir):\n",
    "        shutil.rmtree(dir)\n",
    "    os.makedirs(dir)"
   ]
  },
  {
   "cell_type": "code",
   "execution_count": 107,
   "metadata": {},
   "outputs": [],
   "source": [
    "make_dir('../../Datasets/cell_images/train/infected')\n",
    "make_dir('../../Datasets/cell_images/train/uninfected')\n",
    "make_dir('../../Datasets/cell_images/test/infected')\n",
    "make_dir('../../Datasets/cell_images/test/uninfected')\n",
    "make_dir('../../Datasets/cell_images/val/infected')\n",
    "make_dir('../../Datasets/cell_images/val/uninfected')\n",
    "\n",
    "\n",
    "for x in test_i:\n",
    "    copyfile(x, x.replace('Parasitized\\\\','test/infected\\\\'))\n",
    "    print('test_i done')\n",
    "for x in val_i:\n",
    "    copyfile(x, x.replace('Parasitized\\\\','val/infected\\\\'))\n",
    "    print('val_i done')\n",
    "\n",
    "for x in train_i:\n",
    "    copyfile(x, x.replace('Parasitized\\\\','train/infected\\\\'))\n",
    "    print('train_i done')\n",
    "\n",
    "for x in train_un:\n",
    "    copyfile(x, x.replace('Uninfected\\\\','train/uninfected\\\\'))\n",
    "    print('train_un done')\n",
    "\n",
    "for x in val_un:\n",
    "    copyfile(x, x.replace('Uninfected\\\\','val/uninfected\\\\'))\n",
    "    print('val_un done')\n",
    "\n",
    "for x in test_un:\n",
    "    copyfile(x, x.replace('Uninfected\\\\','test/uninfected\\\\'))\n",
    "    print('test_un done')"
   ]
  },
  {
   "cell_type": "code",
   "execution_count": null,
   "metadata": {},
   "outputs": [],
   "source": []
  }
 ],
 "metadata": {
  "language_info": {
   "codemirror_mode": {
    "name": "ipython",
    "version": 3
   },
   "file_extension": ".py",
   "mimetype": "text/x-python",
   "name": "python",
   "nbconvert_exporter": "python",
   "pygments_lexer": "ipython3",
   "version": "3.7.6-final"
  },
  "orig_nbformat": 2,
  "kernelspec": {
   "name": "python37664bitenvvenv18106b881a854b6fa3899df2220cb90d",
   "display_name": "Python 3.7.6 64-bit ('env': venv)"
  }
 },
 "nbformat": 4,
 "nbformat_minor": 2
}